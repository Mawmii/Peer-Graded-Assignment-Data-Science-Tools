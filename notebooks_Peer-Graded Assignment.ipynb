{
  "metadata": {
    "language_info": {
      "codemirror_mode": {
        "name": "python",
        "version": 3
      },
      "file_extension": ".py",
      "mimetype": "text/x-python",
      "name": "python",
      "nbconvert_exporter": "python",
      "pygments_lexer": "ipython3",
      "version": "3.8"
    },
    "kernelspec": {
      "name": "python",
      "display_name": "Python (Pyodide)",
      "language": "python"
    }
  },
  "nbformat_minor": 4,
  "nbformat": 4,
  "cells": [
    {
      "cell_type": "markdown",
      "source": "# My Jupyter Notebook using Skills Network LTI item",
      "metadata": {}
    },
    {
      "cell_type": "markdown",
      "source": "**Kay Lam**\n<br> Healthcare Data Scientist",
      "metadata": {}
    },
    {
      "cell_type": "markdown",
      "source": "_I am interested in Data Science because I enjoy problem solving and statistical analysis. Since Covid, I realised how data analysis plays a pivotal role in how we manage healthcare systems and personal health. Being in the healthcare sector myself, I hope to be able to apply data science to further improve Women's Health, which is an area I am deeply passionate about._",
      "metadata": {}
    },
    {
      "cell_type": "markdown",
      "source": "### Place code in square brackets and link in parentheses to attach link to text.",
      "metadata": {}
    },
    {
      "cell_type": "markdown",
      "source": "[BMC Women's Health Journal](https://bmcwomenshealth.biomedcentral.com/)",
      "metadata": {}
    },
    {
      "cell_type": "markdown",
      "source": "-  Gender\n    - Male\n    - Female\n    - Non-binary\n\n1.  Seasons\n    1.  Winter\n    1.  Spring\n2.  Weather\n    1. Hot\n    2. Cold\n    \n|Name|Age|Height|\n|----|---|------|\n|Mary|21|160cm|\n|John|24|187cm|",
      "metadata": {}
    }
  ]
}